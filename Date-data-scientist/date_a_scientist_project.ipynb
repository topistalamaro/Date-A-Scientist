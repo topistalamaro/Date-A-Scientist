{
 "cells": [
  {
   "cell_type": "markdown",
   "metadata": {},
   "source": [
    "## Project | Date - A - Scientist with OKCupid"
   ]
  },
  {
   "cell_type": "markdown",
   "metadata": {},
   "source": [
    "In recent years, there has been a massive rise in the usage of dating apps to find love. Many of these apps use sophisticated data science techniques to recommend possible matches to users and to optimize the user experience. These apps give us access to a wealth of information that we’ve never had before about how different people experience romance.\n",
    "\n",
    "In this capstone, you will analyze some data from OKCupid, an app that focuses on using multiple choice and short answers to match users.\n"
   ]
  },
  {
   "cell_type": "markdown",
   "metadata": {},
   "source": [
    "## Setting up the DataFrame.\n"
   ]
  },
  {
   "cell_type": "code",
   "execution_count": 1,
   "metadata": {},
   "outputs": [
    {
     "name": "stdout",
     "output_type": "stream",
     "text": [
      "59946\n",
      "<class 'pandas.core.frame.DataFrame'>\n",
      "RangeIndex: 59946 entries, 0 to 59945\n",
      "Data columns (total 31 columns):\n",
      " #   Column       Non-Null Count  Dtype  \n",
      "---  ------       --------------  -----  \n",
      " 0   age          59946 non-null  int64  \n",
      " 1   body_type    54650 non-null  object \n",
      " 2   diet         35551 non-null  object \n",
      " 3   drinks       56961 non-null  object \n",
      " 4   drugs        45866 non-null  object \n",
      " 5   education    53318 non-null  object \n",
      " 6   essay0       54458 non-null  object \n",
      " 7   essay1       52374 non-null  object \n",
      " 8   essay2       50308 non-null  object \n",
      " 9   essay3       48470 non-null  object \n",
      " 10  essay4       49409 non-null  object \n",
      " 11  essay5       49096 non-null  object \n",
      " 12  essay6       46175 non-null  object \n",
      " 13  essay7       47495 non-null  object \n",
      " 14  essay8       40721 non-null  object \n",
      " 15  essay9       47343 non-null  object \n",
      " 16  ethnicity    54266 non-null  object \n",
      " 17  height       59943 non-null  float64\n",
      " 18  income       59946 non-null  int64  \n",
      " 19  job          51748 non-null  object \n",
      " 20  last_online  59946 non-null  object \n",
      " 21  location     59946 non-null  object \n",
      " 22  offspring    24385 non-null  object \n",
      " 23  orientation  59946 non-null  object \n",
      " 24  pets         40025 non-null  object \n",
      " 25  religion     39720 non-null  object \n",
      " 26  sex          59946 non-null  object \n",
      " 27  sign         48890 non-null  object \n",
      " 28  smokes       54434 non-null  object \n",
      " 29  speaks       59896 non-null  object \n",
      " 30  status       59946 non-null  object \n",
      "dtypes: float64(1), int64(2), object(28)\n",
      "memory usage: 14.2+ MB\n",
      "None\n",
      "Index(['age', 'body_type', 'diet', 'drinks', 'drugs', 'education', 'essay0',\n",
      "       'essay1', 'essay2', 'essay3', 'essay4', 'essay5', 'essay6', 'essay7',\n",
      "       'essay8', 'essay9', 'ethnicity', 'height', 'income', 'job',\n",
      "       'last_online', 'location', 'offspring', 'orientation', 'pets',\n",
      "       'religion', 'sex', 'sign', 'smokes', 'speaks', 'status'],\n",
      "      dtype='object')\n"
     ]
    }
   ],
   "source": [
    "import pandas as pd\n",
    "import numpy as np\n",
    "from matplotlib import pyplot as plt\n",
    "import seaborn as sns\n",
    "\n",
    "#Loading up the DataFrame and inspecting contents\n",
    "\n",
    "profiles = pd.read_csv('profiles.csv')\n",
    "print(len(profiles))\n",
    "print(profiles.info())\n",
    "print(profiles.columns)"
   ]
  },
  {
   "cell_type": "markdown",
   "metadata": {},
   "source": [
    "## Inspecting the columns\n"
   ]
  },
  {
   "cell_type": "code",
   "execution_count": 2,
   "metadata": {
    "scrolled": false
   },
   "outputs": [
    {
     "name": "stdout",
     "output_type": "stream",
     "text": [
      "average           14652\n",
      "fit               12711\n",
      "athletic          11819\n",
      "thin               4711\n",
      "curvy              3924\n",
      "a little extra     2629\n",
      "skinny             1777\n",
      "full figured       1009\n",
      "overweight          444\n",
      "jacked              421\n",
      "used up             355\n",
      "rather not say      198\n",
      "Name: body_type, dtype: int64\n",
      "mostly anything        16585\n",
      "anything                6183\n",
      "strictly anything       5113\n",
      "mostly vegetarian       3444\n",
      "mostly other            1007\n",
      "strictly vegetarian      875\n",
      "vegetarian               667\n",
      "strictly other           452\n",
      "mostly vegan             338\n",
      "other                    331\n",
      "strictly vegan           228\n",
      "vegan                    136\n",
      "mostly kosher             86\n",
      "mostly halal              48\n",
      "strictly halal            18\n",
      "strictly kosher           18\n",
      "halal                     11\n",
      "kosher                    11\n",
      "Name: diet, dtype: int64\n",
      "socially       41780\n",
      "rarely          5957\n",
      "often           5164\n",
      "not at all      3267\n",
      "very often       471\n",
      "desperately      322\n",
      "Name: drinks, dtype: int64\n",
      "never        37724\n",
      "sometimes     7732\n",
      "often          410\n",
      "Name: drugs, dtype: int64\n",
      "no                43896\n",
      "sometimes          3787\n",
      "when drinking      3040\n",
      "yes                2231\n",
      "trying to quit     1480\n",
      "Name: smokes, dtype: int64\n",
      "graduated from college/university    23959\n",
      "graduated from masters program        8961\n",
      "working on college/university         5712\n",
      "working on masters program            1683\n",
      "graduated from two-year college       1531\n",
      "graduated from high school            1428\n",
      "graduated from ph.d program           1272\n",
      "graduated from law school             1122\n",
      "working on two-year college           1074\n",
      "dropped out of college/university      995\n",
      "working on ph.d program                983\n",
      "college/university                     801\n",
      "graduated from space camp              657\n",
      "dropped out of space camp              523\n",
      "graduated from med school              446\n",
      "working on space camp                  445\n",
      "working on law school                  269\n",
      "two-year college                       222\n",
      "working on med school                  212\n",
      "dropped out of two-year college        191\n",
      "dropped out of masters program         140\n",
      "masters program                        136\n",
      "dropped out of ph.d program            127\n",
      "dropped out of high school             102\n",
      "high school                             96\n",
      "working on high school                  87\n",
      "space camp                              58\n",
      "ph.d program                            26\n",
      "law school                              19\n",
      "dropped out of law school               18\n",
      "dropped out of med school               12\n",
      "med school                              11\n",
      "Name: education, dtype: int64\n",
      "white                                                                                               32831\n",
      "asian                                                                                                6134\n",
      "hispanic / latin                                                                                     2823\n",
      "black                                                                                                2008\n",
      "other                                                                                                1706\n",
      "                                                                                                    ...  \n",
      "middle eastern, black, native american, indian, pacific islander, hispanic / latin, white, other        1\n",
      "black, native american, pacific islander, other                                                         1\n",
      "black, native american, pacific islander, white, other                                                  1\n",
      "asian, black, hispanic / latin, white, other                                                            1\n",
      "asian, middle eastern, black, white, other                                                              1\n",
      "Name: ethnicity, Length: 217, dtype: int64\n",
      "-1          48442\n",
      " 20000       2952\n",
      " 100000      1621\n",
      " 80000       1111\n",
      " 30000       1048\n",
      " 40000       1005\n",
      " 50000        975\n",
      " 60000        736\n",
      " 70000        707\n",
      " 150000       631\n",
      " 1000000      521\n",
      " 250000       149\n",
      " 500000        48\n",
      "Name: income, dtype: int64\n",
      "other                                7589\n",
      "student                              4882\n",
      "science / tech / engineering         4848\n",
      "computer / hardware / software       4709\n",
      "artistic / musical / writer          4439\n",
      "sales / marketing / biz dev          4391\n",
      "medicine / health                    3680\n",
      "education / academia                 3513\n",
      "executive / management               2373\n",
      "banking / financial / real estate    2266\n",
      "entertainment / media                2250\n",
      "law / legal services                 1381\n",
      "hospitality / travel                 1364\n",
      "construction / craftsmanship         1021\n",
      "clerical / administrative             805\n",
      "political / government                708\n",
      "rather not say                        436\n",
      "transportation                        366\n",
      "unemployed                            273\n",
      "retired                               250\n",
      "military                              204\n",
      "Name: job, dtype: int64\n",
      "doesn&rsquo;t have kids                                7560\n",
      "doesn&rsquo;t have kids, but might want them           3875\n",
      "doesn&rsquo;t have kids, but wants them                3565\n",
      "doesn&rsquo;t want kids                                2927\n",
      "has kids                                               1883\n",
      "has a kid                                              1881\n",
      "doesn&rsquo;t have kids, and doesn&rsquo;t want any    1132\n",
      "has kids, but doesn&rsquo;t want more                   442\n",
      "has a kid, but doesn&rsquo;t want more                  275\n",
      "has a kid, and might want more                          231\n",
      "wants kids                                              225\n",
      "might want kids                                         182\n",
      "has kids, and might want more                           115\n",
      "has a kid, and wants more                                71\n",
      "has kids, and wants more                                 21\n",
      "Name: offspring, dtype: int64\n",
      "straight    51606\n",
      "gay          5573\n",
      "bisexual     2767\n",
      "Name: orientation, dtype: int64\n",
      "agnosticism                                   2724\n",
      "other                                         2691\n",
      "agnosticism but not too serious about it      2636\n",
      "agnosticism and laughing about it             2496\n",
      "catholicism but not too serious about it      2318\n",
      "atheism                                       2175\n",
      "other and laughing about it                   2119\n",
      "atheism and laughing about it                 2074\n",
      "christianity                                  1957\n",
      "christianity but not too serious about it     1952\n",
      "other but not too serious about it            1554\n",
      "judaism but not too serious about it          1517\n",
      "atheism but not too serious about it          1318\n",
      "catholicism                                   1064\n",
      "christianity and somewhat serious about it     927\n",
      "atheism and somewhat serious about it          848\n",
      "other and somewhat serious about it            846\n",
      "catholicism and laughing about it              726\n",
      "judaism and laughing about it                  681\n",
      "buddhism but not too serious about it          650\n",
      "agnosticism and somewhat serious about it      642\n",
      "judaism                                        612\n",
      "christianity and very serious about it         578\n",
      "atheism and very serious about it              570\n",
      "catholicism and somewhat serious about it      548\n",
      "other and very serious about it                533\n",
      "buddhism and laughing about it                 466\n",
      "buddhism                                       403\n",
      "christianity and laughing about it             373\n",
      "buddhism and somewhat serious about it         359\n",
      "agnosticism and very serious about it          314\n",
      "judaism and somewhat serious about it          266\n",
      "hinduism but not too serious about it          227\n",
      "hinduism                                       107\n",
      "catholicism and very serious about it          102\n",
      "buddhism and very serious about it              70\n",
      "hinduism and somewhat serious about it          58\n",
      "islam                                           48\n",
      "hinduism and laughing about it                  44\n",
      "islam but not too serious about it              40\n",
      "judaism and very serious about it               22\n",
      "islam and somewhat serious about it             22\n",
      "islam and laughing about it                     16\n",
      "hinduism and very serious about it              14\n",
      "islam and very serious about it                 13\n",
      "Name: religion, dtype: int64\n",
      "m    35829\n",
      "f    24117\n",
      "Name: sex, dtype: int64\n",
      "gemini and it&rsquo;s fun to think about         1782\n",
      "scorpio and it&rsquo;s fun to think about        1772\n",
      "leo and it&rsquo;s fun to think about            1692\n",
      "libra and it&rsquo;s fun to think about          1649\n",
      "taurus and it&rsquo;s fun to think about         1640\n",
      "cancer and it&rsquo;s fun to think about         1597\n",
      "pisces and it&rsquo;s fun to think about         1592\n",
      "sagittarius and it&rsquo;s fun to think about    1583\n",
      "virgo and it&rsquo;s fun to think about          1574\n",
      "aries and it&rsquo;s fun to think about          1573\n",
      "aquarius and it&rsquo;s fun to think about       1503\n",
      "virgo but it doesn&rsquo;t matter                1497\n",
      "leo but it doesn&rsquo;t matter                  1457\n",
      "cancer but it doesn&rsquo;t matter               1454\n",
      "gemini but it doesn&rsquo;t matter               1453\n",
      "taurus but it doesn&rsquo;t matter               1450\n",
      "aquarius but it doesn&rsquo;t matter             1408\n",
      "libra but it doesn&rsquo;t matter                1408\n",
      "capricorn and it&rsquo;s fun to think about      1376\n",
      "sagittarius but it doesn&rsquo;t matter          1375\n",
      "aries but it doesn&rsquo;t matter                1373\n",
      "capricorn but it doesn&rsquo;t matter            1319\n",
      "pisces but it doesn&rsquo;t matter               1300\n",
      "scorpio but it doesn&rsquo;t matter              1264\n",
      "leo                                              1159\n",
      "libra                                            1098\n",
      "cancer                                           1092\n",
      "virgo                                            1029\n",
      "scorpio                                          1020\n",
      "gemini                                           1013\n",
      "taurus                                           1001\n",
      "aries                                             996\n",
      "pisces                                            992\n",
      "aquarius                                          954\n",
      "sagittarius                                       937\n",
      "capricorn                                         833\n",
      "scorpio and it matters a lot                       78\n",
      "leo and it matters a lot                           66\n",
      "aquarius and it matters a lot                      63\n",
      "cancer and it matters a lot                        63\n",
      "gemini and it matters a lot                        62\n",
      "pisces and it matters a lot                        62\n",
      "libra and it matters a lot                         52\n",
      "taurus and it matters a lot                        49\n",
      "sagittarius and it matters a lot                   47\n",
      "aries and it matters a lot                         47\n",
      "capricorn and it matters a lot                     45\n",
      "virgo and it matters a lot                         41\n",
      "Name: sign, dtype: int64\n",
      "english                                                                                   21828\n",
      "english (fluently)                                                                         6628\n",
      "english (fluently), spanish (poorly)                                                       2059\n",
      "english (fluently), spanish (okay)                                                         1917\n",
      "english (fluently), spanish (fluently)                                                     1288\n",
      "                                                                                          ...  \n",
      "english (fluently), croatian (poorly), french (poorly)                                        1\n",
      "english, french, hindi, japanese                                                              1\n",
      "english (fluently), french (okay), spanish (poorly), italian (okay)                           1\n",
      "english, spanish, hindi, german, french                                                       1\n",
      "english (fluently), vietnamese (okay), chinese (poorly), french (okay), spanish (okay)        1\n",
      "Name: speaks, Length: 7647, dtype: int64\n",
      "single            55697\n",
      "seeing someone     2064\n",
      "available          1865\n",
      "married             310\n",
      "unknown              10\n",
      "Name: status, dtype: int64\n",
      "0    about me:<br />\\n<br />\\ni would love to think...\n",
      "1    i am a chef: this is what that means.<br />\\n1...\n",
      "2    i'm not ashamed of much, but writing public te...\n",
      "Name: essay0, dtype: object\n"
     ]
    }
   ],
   "source": [
    "#print(profiles['age'].value_counts())\n",
    "print(profiles['body_type'].value_counts())\n",
    "print(profiles['diet'].value_counts())\n",
    "print(profiles['drinks'].value_counts())\n",
    "print(profiles['drugs'].value_counts())\n",
    "print(profiles['smokes'].value_counts())\n",
    "print(profiles['education'].value_counts())\n",
    "print(profiles['ethnicity'].value_counts())\n",
    "print(profiles['income'].value_counts())\n",
    "print(profiles['job'].value_counts())\n",
    "print(profiles['offspring'].value_counts())\n",
    "print(profiles['orientation'].value_counts())\n",
    "print(profiles['religion'].value_counts())\n",
    "print(profiles['sex'].value_counts())\n",
    "print(profiles['sign'].value_counts())\n",
    "print(profiles['speaks'].value_counts())\n",
    "print(profiles['status'].value_counts())\n",
    "print(profiles['essay0'].head(3))"
   ]
  },
  {
   "cell_type": "markdown",
   "metadata": {},
   "source": [
    "To find : \n",
    "Age histogram split by men and women\n",
    "Height histogram split by men and women\n",
    "Orientation by men and women (Side by side pie plot)\n",
    "Religion vs Seriousness\n",
    "Signs vs Seriousness\n",
    "Number of languages by gender\n",
    "Are the body type statuses different for men and women?\n",
    "Diet could be combined into kosher, halal, vegan, vegetarian, anything, other and then preference.\n",
    "Drinks to be converted to an ordinal scale\n",
    "Drugs to be converted to an ordinal scale.\n",
    "Smokes to be converted to ordinal scale.\n",
    "Education could be broken up into Status (graduated, working, dropped out) Type(high school, space camp, two year college, college / university, med school, law school, masters program, phd program, and level (1,2,3,4,5,5,6,7)\n",
    "Income : Why is it -1\n",
    "Offsprings - Can be converted to ordinal data\n",
    "Religion - Can be collapsed into two columns : Religion and Seriousness\n",
    "Sign - Can be broekn into 2 columns : Sub SIgn and perception\n",
    "Languages - Can be converted to count of languages using comma separator"
   ]
  },
  {
   "cell_type": "markdown",
   "metadata": {},
   "source": [
    "## Basic Exploratory Checks\n"
   ]
  },
  {
   "cell_type": "code",
   "execution_count": 3,
   "metadata": {},
   "outputs": [
    {
     "name": "stdout",
     "output_type": "stream",
     "text": [
      "  sex  count\n",
      "0   f  24117\n",
      "1   m  35829\n"
     ]
    },
    {
     "data": {
      "image/png": "[encoded data removed]",
      "text/plain": [
       "<Figure size 720x576 with 1 Axes>"
      ]
     },
     "metadata": {},
     "output_type": "display_data"
    },
    {
     "ename": "AttributeError",
     "evalue": "'Rectangle' object has no property 'normed'",
     "output_type": "error",
     "traceback": [
      "\u001b[1;31m---------------------------------------------------------------------------\u001b[0m",
      "\u001b[1;31mAttributeError\u001b[0m                            Traceback (most recent call last)",
      "\u001b[1;32m<ipython-input-3-ee18871373cf>\u001b[0m in \u001b[0;36m<module>\u001b[1;34m\u001b[0m\n\u001b[0;32m     19\u001b[0m \u001b[0mplt\u001b[0m\u001b[1;33m.\u001b[0m\u001b[0mfigure\u001b[0m\u001b[1;33m(\u001b[0m\u001b[0mfigsize\u001b[0m \u001b[1;33m=\u001b[0m \u001b[1;33m(\u001b[0m\u001b[1;36m10\u001b[0m\u001b[1;33m,\u001b[0m\u001b[1;36m8\u001b[0m\u001b[1;33m)\u001b[0m\u001b[1;33m)\u001b[0m\u001b[1;33m\u001b[0m\u001b[1;33m\u001b[0m\u001b[0m\n\u001b[0;32m     20\u001b[0m \u001b[0max2\u001b[0m \u001b[1;33m=\u001b[0m \u001b[0mplt\u001b[0m\u001b[1;33m.\u001b[0m\u001b[0msubplot\u001b[0m\u001b[1;33m(\u001b[0m\u001b[1;36m1\u001b[0m\u001b[1;33m,\u001b[0m\u001b[1;36m1\u001b[0m\u001b[1;33m,\u001b[0m\u001b[1;36m1\u001b[0m\u001b[1;33m)\u001b[0m\u001b[1;33m\u001b[0m\u001b[1;33m\u001b[0m\u001b[0m\n\u001b[1;32m---> 21\u001b[1;33m \u001b[0mplt\u001b[0m\u001b[1;33m.\u001b[0m\u001b[0mhist\u001b[0m\u001b[1;33m(\u001b[0m\u001b[0mage_men\u001b[0m\u001b[1;33m,\u001b[0m \u001b[0malpha\u001b[0m \u001b[1;33m=\u001b[0m \u001b[1;36m0.3\u001b[0m\u001b[1;33m,\u001b[0m \u001b[0mcolor\u001b[0m \u001b[1;33m=\u001b[0m \u001b[1;34m'blue'\u001b[0m\u001b[1;33m,\u001b[0m \u001b[0mnormed\u001b[0m \u001b[1;33m=\u001b[0m \u001b[1;32mTrue\u001b[0m\u001b[1;33m,\u001b[0m \u001b[0mbins\u001b[0m \u001b[1;33m=\u001b[0m \u001b[1;36m20\u001b[0m\u001b[1;33m)\u001b[0m\u001b[1;33m\u001b[0m\u001b[1;33m\u001b[0m\u001b[0m\n\u001b[0m\u001b[0;32m     22\u001b[0m \u001b[0mplt\u001b[0m\u001b[1;33m.\u001b[0m\u001b[0mhist\u001b[0m\u001b[1;33m(\u001b[0m\u001b[0mage_women\u001b[0m\u001b[1;33m,\u001b[0m \u001b[0malpha\u001b[0m \u001b[1;33m=\u001b[0m \u001b[1;36m0.4\u001b[0m\u001b[1;33m,\u001b[0m \u001b[0mcolor\u001b[0m \u001b[1;33m=\u001b[0m \u001b[1;34m'orange'\u001b[0m\u001b[1;33m,\u001b[0m \u001b[0mnormed\u001b[0m \u001b[1;33m=\u001b[0m \u001b[1;32mTrue\u001b[0m\u001b[1;33m,\u001b[0m \u001b[0mbins\u001b[0m \u001b[1;33m=\u001b[0m \u001b[1;36m20\u001b[0m\u001b[1;33m)\u001b[0m\u001b[1;33m\u001b[0m\u001b[1;33m\u001b[0m\u001b[0m\n\u001b[0;32m     23\u001b[0m \u001b[0mplt\u001b[0m\u001b[1;33m.\u001b[0m\u001b[0mlegend\u001b[0m\u001b[1;33m(\u001b[0m\u001b[1;33m[\u001b[0m\u001b[1;34m'mens ages'\u001b[0m\u001b[1;33m,\u001b[0m \u001b[1;34m'womens ages'\u001b[0m\u001b[1;33m]\u001b[0m\u001b[1;33m)\u001b[0m\u001b[1;33m\u001b[0m\u001b[1;33m\u001b[0m\u001b[0m\n",
      "\u001b[1;32m~\\anaconda3\\lib\\site-packages\\matplotlib\\pyplot.py\u001b[0m in \u001b[0;36mhist\u001b[1;34m(x, bins, range, density, weights, cumulative, bottom, histtype, align, orientation, rwidth, log, color, label, stacked, data, **kwargs)\u001b[0m\n\u001b[0;32m   2683\u001b[0m         \u001b[0morientation\u001b[0m\u001b[1;33m=\u001b[0m\u001b[1;34m'vertical'\u001b[0m\u001b[1;33m,\u001b[0m \u001b[0mrwidth\u001b[0m\u001b[1;33m=\u001b[0m\u001b[1;32mNone\u001b[0m\u001b[1;33m,\u001b[0m \u001b[0mlog\u001b[0m\u001b[1;33m=\u001b[0m\u001b[1;32mFalse\u001b[0m\u001b[1;33m,\u001b[0m \u001b[0mcolor\u001b[0m\u001b[1;33m=\u001b[0m\u001b[1;32mNone\u001b[0m\u001b[1;33m,\u001b[0m\u001b[1;33m\u001b[0m\u001b[1;33m\u001b[0m\u001b[0m\n\u001b[0;32m   2684\u001b[0m         label=None, stacked=False, *, data=None, **kwargs):\n\u001b[1;32m-> 2685\u001b[1;33m     return gca().hist(\n\u001b[0m\u001b[0;32m   2686\u001b[0m         \u001b[0mx\u001b[0m\u001b[1;33m,\u001b[0m \u001b[0mbins\u001b[0m\u001b[1;33m=\u001b[0m\u001b[0mbins\u001b[0m\u001b[1;33m,\u001b[0m \u001b[0mrange\u001b[0m\u001b[1;33m=\u001b[0m\u001b[0mrange\u001b[0m\u001b[1;33m,\u001b[0m \u001b[0mdensity\u001b[0m\u001b[1;33m=\u001b[0m\u001b[0mdensity\u001b[0m\u001b[1;33m,\u001b[0m \u001b[0mweights\u001b[0m\u001b[1;33m=\u001b[0m\u001b[0mweights\u001b[0m\u001b[1;33m,\u001b[0m\u001b[1;33m\u001b[0m\u001b[1;33m\u001b[0m\u001b[0m\n\u001b[0;32m   2687\u001b[0m         \u001b[0mcumulative\u001b[0m\u001b[1;33m=\u001b[0m\u001b[0mcumulative\u001b[0m\u001b[1;33m,\u001b[0m \u001b[0mbottom\u001b[0m\u001b[1;33m=\u001b[0m\u001b[0mbottom\u001b[0m\u001b[1;33m,\u001b[0m \u001b[0mhisttype\u001b[0m\u001b[1;33m=\u001b[0m\u001b[0mhisttype\u001b[0m\u001b[1;33m,\u001b[0m\u001b[1;33m\u001b[0m\u001b[1;33m\u001b[0m\u001b[0m\n",
      "\u001b[1;32m~\\anaconda3\\lib\\site-packages\\matplotlib\\__init__.py\u001b[0m in \u001b[0;36minner\u001b[1;34m(ax, data, *args, **kwargs)\u001b[0m\n\u001b[0;32m   1436\u001b[0m     \u001b[1;32mdef\u001b[0m \u001b[0minner\u001b[0m\u001b[1;33m(\u001b[0m\u001b[0max\u001b[0m\u001b[1;33m,\u001b[0m \u001b[1;33m*\u001b[0m\u001b[0margs\u001b[0m\u001b[1;33m,\u001b[0m \u001b[0mdata\u001b[0m\u001b[1;33m=\u001b[0m\u001b[1;32mNone\u001b[0m\u001b[1;33m,\u001b[0m \u001b[1;33m**\u001b[0m\u001b[0mkwargs\u001b[0m\u001b[1;33m)\u001b[0m\u001b[1;33m:\u001b[0m\u001b[1;33m\u001b[0m\u001b[1;33m\u001b[0m\u001b[0m\n\u001b[0;32m   1437\u001b[0m         \u001b[1;32mif\u001b[0m \u001b[0mdata\u001b[0m \u001b[1;32mis\u001b[0m \u001b[1;32mNone\u001b[0m\u001b[1;33m:\u001b[0m\u001b[1;33m\u001b[0m\u001b[1;33m\u001b[0m\u001b[0m\n\u001b[1;32m-> 1438\u001b[1;33m             \u001b[1;32mreturn\u001b[0m \u001b[0mfunc\u001b[0m\u001b[1;33m(\u001b[0m\u001b[0max\u001b[0m\u001b[1;33m,\u001b[0m \u001b[1;33m*\u001b[0m\u001b[0mmap\u001b[0m\u001b[1;33m(\u001b[0m\u001b[0msanitize_sequence\u001b[0m\u001b[1;33m,\u001b[0m \u001b[0margs\u001b[0m\u001b[1;33m)\u001b[0m\u001b[1;33m,\u001b[0m \u001b[1;33m**\u001b[0m\u001b[0mkwargs\u001b[0m\u001b[1;33m)\u001b[0m\u001b[1;33m\u001b[0m\u001b[1;33m\u001b[0m\u001b[0m\n\u001b[0m\u001b[0;32m   1439\u001b[0m \u001b[1;33m\u001b[0m\u001b[0m\n\u001b[0;32m   1440\u001b[0m         \u001b[0mbound\u001b[0m \u001b[1;33m=\u001b[0m \u001b[0mnew_sig\u001b[0m\u001b[1;33m.\u001b[0m\u001b[0mbind\u001b[0m\u001b[1;33m(\u001b[0m\u001b[0max\u001b[0m\u001b[1;33m,\u001b[0m \u001b[1;33m*\u001b[0m\u001b[0margs\u001b[0m\u001b[1;33m,\u001b[0m \u001b[1;33m**\u001b[0m\u001b[0mkwargs\u001b[0m\u001b[1;33m)\u001b[0m\u001b[1;33m\u001b[0m\u001b[1;33m\u001b[0m\u001b[0m\n",
      "\u001b[1;32m~\\anaconda3\\lib\\site-packages\\matplotlib\\axes\\_axes.py\u001b[0m in \u001b[0;36mhist\u001b[1;34m(self, x, bins, range, density, weights, cumulative, bottom, histtype, align, orientation, rwidth, log, color, label, stacked, **kwargs)\u001b[0m\n\u001b[0;32m   6818\u001b[0m             \u001b[1;32mif\u001b[0m \u001b[0mpatch\u001b[0m\u001b[1;33m:\u001b[0m\u001b[1;33m\u001b[0m\u001b[1;33m\u001b[0m\u001b[0m\n\u001b[0;32m   6819\u001b[0m                 \u001b[0mp\u001b[0m \u001b[1;33m=\u001b[0m \u001b[0mpatch\u001b[0m\u001b[1;33m[\u001b[0m\u001b[1;36m0\u001b[0m\u001b[1;33m]\u001b[0m\u001b[1;33m\u001b[0m\u001b[1;33m\u001b[0m\u001b[0m\n\u001b[1;32m-> 6820\u001b[1;33m                 \u001b[0mp\u001b[0m\u001b[1;33m.\u001b[0m\u001b[0mupdate\u001b[0m\u001b[1;33m(\u001b[0m\u001b[0mkwargs\u001b[0m\u001b[1;33m)\u001b[0m\u001b[1;33m\u001b[0m\u001b[1;33m\u001b[0m\u001b[0m\n\u001b[0m\u001b[0;32m   6821\u001b[0m                 \u001b[1;32mif\u001b[0m \u001b[0mlbl\u001b[0m \u001b[1;32mis\u001b[0m \u001b[1;32mnot\u001b[0m \u001b[1;32mNone\u001b[0m\u001b[1;33m:\u001b[0m\u001b[1;33m\u001b[0m\u001b[1;33m\u001b[0m\u001b[0m\n\u001b[0;32m   6822\u001b[0m                     \u001b[0mp\u001b[0m\u001b[1;33m.\u001b[0m\u001b[0mset_label\u001b[0m\u001b[1;33m(\u001b[0m\u001b[0mlbl\u001b[0m\u001b[1;33m)\u001b[0m\u001b[1;33m\u001b[0m\u001b[1;33m\u001b[0m\u001b[0m\n",
      "\u001b[1;32m~\\anaconda3\\lib\\site-packages\\matplotlib\\artist.py\u001b[0m in \u001b[0;36mupdate\u001b[1;34m(self, props)\u001b[0m\n\u001b[0;32m    994\u001b[0m                     \u001b[0mfunc\u001b[0m \u001b[1;33m=\u001b[0m \u001b[0mgetattr\u001b[0m\u001b[1;33m(\u001b[0m\u001b[0mself\u001b[0m\u001b[1;33m,\u001b[0m \u001b[1;34mf\"set_{k}\"\u001b[0m\u001b[1;33m,\u001b[0m \u001b[1;32mNone\u001b[0m\u001b[1;33m)\u001b[0m\u001b[1;33m\u001b[0m\u001b[1;33m\u001b[0m\u001b[0m\n\u001b[0;32m    995\u001b[0m                     \u001b[1;32mif\u001b[0m \u001b[1;32mnot\u001b[0m \u001b[0mcallable\u001b[0m\u001b[1;33m(\u001b[0m\u001b[0mfunc\u001b[0m\u001b[1;33m)\u001b[0m\u001b[1;33m:\u001b[0m\u001b[1;33m\u001b[0m\u001b[1;33m\u001b[0m\u001b[0m\n\u001b[1;32m--> 996\u001b[1;33m                         raise AttributeError(f\"{type(self).__name__!r} object \"\n\u001b[0m\u001b[0;32m    997\u001b[0m                                              f\"has no property {k!r}\")\n\u001b[0;32m    998\u001b[0m                     \u001b[0mret\u001b[0m\u001b[1;33m.\u001b[0m\u001b[0mappend\u001b[0m\u001b[1;33m(\u001b[0m\u001b[0mfunc\u001b[0m\u001b[1;33m(\u001b[0m\u001b[0mv\u001b[0m\u001b[1;33m)\u001b[0m\u001b[1;33m)\u001b[0m\u001b[1;33m\u001b[0m\u001b[1;33m\u001b[0m\u001b[0m\n",
      "\u001b[1;31mAttributeError\u001b[0m: 'Rectangle' object has no property 'normed'"
     ]
    },
    {
     "data": {
      "image/png": "[encoded data removed]",
      "text/plain": [
       "<Figure size 720x576 with 1 Axes>"
      ]
     },
     "metadata": {
      "needs_background": "light"
     },
     "output_type": "display_data"
    }
   ],
   "source": [
    "#Proportion of Men and Women\n",
    "\n",
    "sex_df = profiles.groupby('sex')['age'].count().reset_index()\n",
    "sex_df.rename(columns = {'age':'count'}, inplace = True)\n",
    "print(sex_df)\n",
    "\n",
    "plt.figure(figsize = (10,8))\n",
    "ax1 = plt.subplot(1,1,1)\n",
    "plt.pie(sex_df['count'], labels = sex_df['sex'], colors = ['pink', 'blue'], autopct = '%d%%')\n",
    "plt.axis('equal')\n",
    "plt.title('Distribution of Men vs Women')\n",
    "plt.show()\n",
    "\n",
    "#Age distributions\n",
    "age_men = profiles[profiles['sex'] == 'm']['age']\n",
    "age_women = profiles[profiles['sex'] == 'f']['age']\n",
    "\n",
    "plt.close('all')\n",
    "plt.figure(figsize = (10,8))\n",
    "ax2 = plt.subplot(1,1,1)\n",
    "plt.hist(age_men, alpha = 0.3, color = 'blue', normed = True, bins = 20)\n",
    "plt.hist(age_women, alpha = 0.4, color = 'orange', normed = True, bins = 20)\n",
    "plt.legend(['mens ages', 'womens ages'])\n",
    "plt.title('Age Distributions of Men and Women')\n",
    "ax2.set_xticks(range(0,110,5))\n",
    "plt.show()\n",
    "\n",
    "#Height distributions\n",
    "height_men = profiles[profiles['sex'] == 'm']['height']\n",
    "height_women = profiles[profiles['sex'] == 'f']['height']\n",
    "\n",
    "plt.close('all')\n",
    "plt.figure(figsize = (10,8))\n",
    "ax3 = plt.subplot(1,1,1)\n",
    "plt.hist(height_men, alpha = 0.3, color = 'blue', normed = True, bins = 20)\n",
    "plt.hist(height_women, alpha = 0.4, color = 'orange', normed = True, bins = 20)\n",
    "plt.axis([50,100, 0, 0.15])\n",
    "plt.legend(['mens heights', 'womens heights'])\n",
    "plt.title('Height Distributions of Men and Women')\n",
    "ax3.set_xticks(range(50,100,5))\n",
    "plt.show()"
   ]
  },
  {
   "cell_type": "markdown",
   "metadata": {},
   "source": [
    "## Sexual Orientation"
   ]
  },
  {
   "cell_type": "code",
   "execution_count": 4,
   "metadata": {},
   "outputs": [
    {
     "name": "stdout",
     "output_type": "stream",
     "text": [
      "  sex orientation  counts\n",
      "0   f    bisexual    1996\n",
      "1   f         gay    1588\n",
      "2   f    straight   20533\n",
      "3   m    bisexual     771\n",
      "4   m         gay    3985\n",
      "5   m    straight   31073\n"
     ]
    },
    {
     "data": {
      "image/png": "[encoded data removed]",
      "text/plain": [
       "<Figure size 720x576 with 2 Axes>"
      ]
     },
     "metadata": {},
     "output_type": "display_data"
    }
   ],
   "source": [
    "#Is sexual Orientation different by gender?\n",
    "\n",
    "orientation = profiles.groupby(['sex', 'orientation'])['age'].count().reset_index()\n",
    "orientation.rename(columns = {'age' : 'counts'}, inplace = True)\n",
    "print(orientation)\n",
    "\n",
    "explode = [0,0.1,0.1]\n",
    "\n",
    "plt.close('all')\n",
    "plt.figure(figsize = (10,8))\n",
    "ax4 = plt.subplot(1,2,1)\n",
    "plt.pie(orientation[orientation['sex'] == 'm']['counts'], labels = orientation[orientation['sex'] == 'm']['orientation'], autopct = '%d%%', explode = explode)\n",
    "plt.axis('equal')\n",
    "ax4.set_title('Orientation of Men')\n",
    "ax5 = plt.subplot(1,2,2)\n",
    "plt.pie(orientation[orientation['sex'] == 'f']['counts'], labels = orientation[orientation['sex'] == 'f']['orientation'], autopct = '%d%%', explode = explode)\n",
    "plt.axis('equal')\n",
    "ax5.set_title('Orientation of Women')\n",
    "plt.suptitle('Orienttaion of Men vs Women')\n",
    "plt.show()"
   ]
  },
  {
   "cell_type": "code",
   "execution_count": 5,
   "metadata": {},
   "outputs": [
    {
     "name": "stdout",
     "output_type": "stream",
     "text": [
      "orientation sex  bisexual   gay  straight\n",
      "0             f      1996  1588     20533\n",
      "1             m       771  3985     31073\n"
     ]
    }
   ],
   "source": [
    "#Checkiing if orientation differences between men and women are statistically significant.\n",
    "\n",
    "orientation_pivot = orientation.pivot(columns = 'orientation',\n",
    "                                     index = 'sex',\n",
    "                                     values = 'counts').reset_index()\n",
    "print(orientation_pivot)"
   ]
  },
  {
   "cell_type": "code",
   "execution_count": 6,
   "metadata": {},
   "outputs": [
    {
     "name": "stdout",
     "output_type": "stream",
     "text": [
      "orientation  bisexual   gay  straight\n",
      "0                1996  1588     20533\n",
      "1                 771  3985     31073\n"
     ]
    }
   ],
   "source": [
    "orientation_extract = orientation_pivot[['bisexual', 'gay', 'straight']]\n",
    "print(orientation_extract)"
   ]
  },
  {
   "cell_type": "code",
   "execution_count": 7,
   "metadata": {},
   "outputs": [
    {
     "name": "stdout",
     "output_type": "stream",
     "text": [
      "[[1996, 1588, 20533], [771, 3985, 31073]]\n",
      "<class 'list'>\n",
      "0.0\n"
     ]
    }
   ],
   "source": [
    "contingency = orientation_extract.values.tolist()\n",
    "print(contingency)\n",
    "print(type(contingency))\n",
    "\n",
    "from scipy.stats import chi2_contingency\n",
    "\n",
    "chi, p, dof, exp = chi2_contingency(contingency)\n",
    "print(p)"
   ]
  },
  {
   "cell_type": "markdown",
   "metadata": {},
   "source": [
    "Based on above observation, it is clear that men and women have statistically different preferences.\n"
   ]
  },
  {
   "cell_type": "markdown",
   "metadata": {},
   "source": [
    "## Augmenting data - Creating Clean columns\n"
   ]
  },
  {
   "cell_type": "markdown",
   "metadata": {},
   "source": [
    "Creating columns for Drinks_ordinal, drugs_ordinal, smokes_ordinal, 'Religion', Sign, 'Religious seriosness', 'Sign seriousness' 'Number of languages'\n",
    "\n",
    "Religion vs Seriousness\n",
    "Signs vs Seriousness\n",
    "Number of languages by gender\n",
    "Drinks to be converted to an ordinal scale\n",
    "Drugs to be converted to an ordinal scale.\n",
    "Smokes to be converted to ordinal scale.\n",
    "Education could be broken up into Status (graduated, working, dropped out) Type(high school, space camp, two year college, college / university, med school, law school, masters program, phd program, and level (1,2,3,4,5,5,6,7)\n",
    "Income : Why is it -1\n",
    "Religion - Can be collapsed into two columns : Religion and Seriousness\n",
    "Sign - Can be broekn into 2 columns : Sub SIgn and perception\n",
    "Languages - Can be converted to count of languages using comma separator"
   ]
  },
  {
   "cell_type": "code",
   "execution_count": 8,
   "metadata": {},
   "outputs": [
    {
     "name": "stdout",
     "output_type": "stream",
     "text": [
      "agnosticism     8812\n",
      "other           7743\n",
      "atheism         6985\n",
      "christianity    5787\n",
      "catholicism     4758\n",
      "judaism         3098\n",
      "buddhism        1948\n",
      "hinduism         450\n",
      "islam            139\n",
      "Name: religion_clean, dtype: int64\n",
      "0.0    8812\n",
      "1.0    7743\n",
      "2.0    6985\n",
      "3.0    5787\n",
      "4.0    4758\n",
      "5.0    3098\n",
      "6.0    1948\n",
      "7.0     450\n",
      "8.0     139\n",
      "Name: religion_int, dtype: int64\n",
      "No     32988\n",
      "Yes     6732\n",
      "Name: religious_seriousness, dtype: int64\n",
      "No     51210\n",
      "Yes     2108\n",
      "Name: dropped_out, dtype: int64\n"
     ]
    }
   ],
   "source": [
    "profiles['sex_int'] = profiles['sex'].map({'f' : 0, 'm' : 1})\n",
    "profiles['orientation_int'] = profiles['orientation'].map({'straight' : 0, 'bisexual' : 1, 'gay' : 2})\n",
    "profiles['drinks_ordinal'] = profiles['drinks'].map({'not at all' : 0, 'rarely' : 1, 'socially' : 2, 'often' : 3, 'very often' : 4, 'desperately' : 5})\n",
    "profiles['drugs_ordinal'] = profiles['drugs'].map({'never' : 0, 'sometimes' : 1, 'often' : 2})\n",
    "profiles['smokes_ordinal'] = profiles['smokes'].map({'no' : 0, 'when drinking' : 1, 'sometimes' : 2, 'trying to quit' : 3, 'yes' : 4})\n",
    "religion_temp = profiles['religion'].str.split(' ')\n",
    "profiles['religion_clean'] = religion_temp.str[0]\n",
    "profiles['religion_int'] = profiles['religion_clean'].map({'agnosticism' : 0, 'other' : 1, 'atheism' : 2, 'christianity' : 3, 'catholicism' : 4, 'judaism' : 5, 'buddhism' : 6, 'hinduism' : 7, 'islam' : 8})\n",
    "sign_temp = profiles['sign'].str.split(' ')\n",
    "profiles['signs_clean'] = sign_temp.str[0]\n",
    "profiles['languages_count'] = (profiles['speaks'].str.count(',')) + 1\n",
    "\n",
    "#print(profiles['religion_clean'].head())\n",
    "#print(profiles['signs_clean'].head())\n",
    "#print(temp_lang)\n",
    "#print(profiles['count_languages'].head())\n",
    "\n",
    "def findedu(x) : \n",
    "    phd = 'ph.d' in x\n",
    "    masters = 'masters' in x\n",
    "    law_school = 'law school' in x\n",
    "    med_school = 'med school' in x\n",
    "    university = 'university' in x\n",
    "    two_year = 'two-year' in x\n",
    "    space_camp = 'space camp' in x\n",
    "    high_school = 'high school' in x\n",
    "    \n",
    "    if phd == True : \n",
    "        return 7\n",
    "    elif masters == True : \n",
    "        return 6\n",
    "    elif law_school == True : \n",
    "        return 5\n",
    "    elif med_school == True : \n",
    "        return 5\n",
    "    elif university == True : \n",
    "        return 4\n",
    "    elif two_year == True : \n",
    "        return 3\n",
    "    elif space_camp == True : \n",
    "        return 2\n",
    "    elif high_school == True : \n",
    "        return 1\n",
    "    \n",
    "profiles['education_clean'] = profiles['education'].apply(lambda x : findedu(str(x)))\n",
    "\n",
    "\n",
    "def how_serious(x) : \n",
    "    laughing = 'laughing' in x\n",
    "    not_too_serious = 'not too' in x\n",
    "    somewhat_serious = 'somewhat' in x\n",
    "    very_serious = 'very serious' in x\n",
    " \n",
    "    if laughing == True : \n",
    "        return 'No'\n",
    "    elif not_too_serious == True : \n",
    "        return 'No'\n",
    "    elif somewhat_serious == True : \n",
    "        return 'Yes'\n",
    "    elif very_serious == True : \n",
    "        return 'Yes'\n",
    "    elif x == 'nan' :\n",
    "        return float('nan')\n",
    "    else : \n",
    "        return 'No'\n",
    "\n",
    "profiles['religious_seriousness'] = profiles['religion'].apply(lambda x : how_serious(str(x)))\n",
    "\n",
    "#print(profiles['religion'].head())\n",
    "print(profiles['religion_clean'].value_counts())\n",
    "print(profiles['religion_int'].value_counts())\n",
    "print(profiles['religious_seriousness'].value_counts())\n",
    "\n",
    "def dropped_out(x) : \n",
    "    dropped_out = 'dropped' in x\n",
    "    \n",
    "    if dropped_out : \n",
    "        return 'Yes'\n",
    "    elif x == 'nan' :\n",
    "        return float('nan')\n",
    "    else : \n",
    "        return 'No'\n",
    "\n",
    "profiles['dropped_out'] = profiles['education'].apply(lambda x : dropped_out(str(x)))\n",
    "print(profiles['dropped_out'].value_counts())"
   ]
  },
  {
   "cell_type": "code",
   "execution_count": 9,
   "metadata": {},
   "outputs": [
    {
     "data": {
      "image/png": "[encoded data removed]",
      "text/plain": [
       "<Figure size 720x576 with 1 Axes>"
      ]
     },
     "metadata": {
      "needs_background": "light"
     },
     "output_type": "display_data"
    }
   ],
   "source": [
    "edu = profiles.groupby('education_clean')['age'].count().reset_index()\n",
    "plt.close('all')\n",
    "plt.figure(figsize = (10,8))\n",
    "ax = plt.subplot(1,1,1)\n",
    "plt.bar(edu['education_clean'], edu['age'], color = 'orange', alpha = 0.5)\n",
    "plt.title('Education levels')\n",
    "ax.set_xticks(range(1,8))\n",
    "ax.set_xticklabels(['High School', 'Space Camp', 'Two Year Collg.', 'Univ', 'Med / Law School', 'Masters', 'Ph.D'])\n",
    "plt.show()"
   ]
  },
  {
   "cell_type": "markdown",
   "metadata": {},
   "source": [
    "Lets test the values for our newly created columns\n",
    "\n"
   ]
  },
  {
   "cell_type": "code",
   "execution_count": 10,
   "metadata": {},
   "outputs": [
    {
     "name": "stdout",
     "output_type": "stream",
     "text": [
      "2.0    41780\n",
      "1.0     5957\n",
      "3.0     5164\n",
      "0.0     3267\n",
      "4.0      471\n",
      "5.0      322\n",
      "Name: drinks_ordinal, dtype: int64\n",
      "1    35829\n",
      "0    24117\n",
      "Name: sex_int, dtype: int64\n",
      "0    51606\n",
      "2     5573\n",
      "1     2767\n",
      "Name: orientation_int, dtype: int64\n",
      "0.0    43896\n",
      "2.0     3787\n",
      "1.0     3040\n",
      "4.0     2231\n",
      "3.0     1480\n",
      "Name: smokes_ordinal, dtype: int64\n",
      "agnosticism     8812\n",
      "other           7743\n",
      "atheism         6985\n",
      "christianity    5787\n",
      "catholicism     4758\n",
      "judaism         3098\n",
      "buddhism        1948\n",
      "hinduism         450\n",
      "islam            139\n",
      "Name: religion_clean, dtype: int64\n",
      "No     32988\n",
      "Yes     6732\n",
      "Name: religious_seriousness, dtype: int64\n",
      "leo            4374\n",
      "gemini         4310\n",
      "libra          4207\n",
      "cancer         4206\n",
      "virgo          4141\n",
      "taurus         4140\n",
      "scorpio        4134\n",
      "aries          3989\n",
      "pisces         3946\n",
      "sagittarius    3942\n",
      "aquarius       3928\n",
      "capricorn      3573\n",
      "Name: signs_clean, dtype: int64\n",
      "4.0    31467\n",
      "6.0    10920\n",
      "3.0     3018\n",
      "7.0     2408\n",
      "5.0     2109\n",
      "1.0     1713\n",
      "2.0     1683\n",
      "Name: education_clean, dtype: int64\n"
     ]
    }
   ],
   "source": [
    "print(profiles['drinks_ordinal'].value_counts())\n",
    "print(profiles['sex_int'].value_counts())\n",
    "print(profiles['orientation_int'].value_counts())\n",
    "print(profiles['smokes_ordinal'].value_counts())\n",
    "print(profiles['religion_clean'].value_counts())\n",
    "print(profiles['religious_seriousness'].value_counts())\n",
    "print(profiles['signs_clean'].value_counts())\n",
    "print(profiles['education_clean'].value_counts())"
   ]
  },
  {
   "cell_type": "markdown",
   "metadata": {},
   "source": [
    "## Can we predict if someone will take religious faith seriously?\n",
    "\n",
    "1. Based on Gender, Orientation, Education, drinks, drugs and smokes [Random Forest]"
   ]
  },
  {
   "cell_type": "code",
   "execution_count": 11,
   "metadata": {},
   "outputs": [],
   "source": [
    "from sklearn.ensemble import RandomForestClassifier\n",
    "from sklearn.model_selection import train_test_split\n",
    "from sklearn.metrics import confusion_matrix, recall_score, precision_score, f1_score\n",
    "\n",
    "rf_df = profiles.dropna(subset = ['sex_int', 'orientation_int', 'education_clean', 'drinks_ordinal', 'drugs_ordinal', 'smokes_ordinal', 'religion_clean']).reset_index()\n",
    "#print(rf_df.info())\n",
    "\n",
    "train_data, test_data, train_labels, test_labels = train_test_split(rf_df[['sex_int', 'orientation_int', 'drinks_ordinal', 'drugs_ordinal', 'religion_int']], rf_df['religious_seriousness'], train_size = 0.8, test_size = 0.2, random_state = 1)\n",
    "\n",
    "scores = []\n",
    "trees = list(range(1,101))\n",
    "\n",
    "for i in range (1,101) : \n",
    "    classifier = RandomForestClassifier(n_estimators = i)\n",
    "    classifier.fit(train_data, train_labels)\n",
    "    predictions = classifier.predict(test_data)\n",
    "    score = classifier.score(test_data, test_labels)\n",
    "    scores.append(score)"
   ]
  },
  {
   "cell_type": "markdown",
   "metadata": {},
   "source": [
    "Our model predicts that the 6cm ball will bounce 3.5m.\n",
    "\n",
    "Now, Reggie can use this model to predict the bounce of all kinds of sizes of balls he may choose to include in the ball pit!"
   ]
  },
  {
   "cell_type": "code",
   "execution_count": 12,
   "metadata": {},
   "outputs": [
    {
     "data": {
      "image/png": "[encoded data removed]",
      "text/plain": [
       "<Figure size 720x576 with 1 Axes>"
      ]
     },
     "metadata": {
      "needs_background": "light"
     },
     "output_type": "display_data"
    },
    {
     "name": "stdout",
     "output_type": "stream",
     "text": [
      "0.02629016553067186\n",
      "0.3698630136986301\n"
     ]
    }
   ],
   "source": [
    "#Score improvements based on number of random trees chosen\n",
    "\n",
    "plt.close('all')\n",
    "plt.figure(figsize = (10,8))\n",
    "ax5 = plt.subplot(1,1,1)\n",
    "plt.plot(trees, scores, alpha = 0.5, color = 'orange', linestyle = ':', marker = 'o')\n",
    "plt.title('Accuracy based on number of trees chosen')\n",
    "ax5.set_xticks(range(0,101,10))\n",
    "plt.show()\n",
    "\n",
    "print(recall_score(test_labels, predictions, pos_label = 'Yes'))\n",
    "print(precision_score(test_labels, predictions, pos_label = \"Yes\"))"
   ]
  },
  {
   "cell_type": "markdown",
   "metadata": {},
   "source": [
    "## Can we predict sex based on content within essays?"
   ]
  },
  {
   "cell_type": "code",
   "execution_count": 13,
   "metadata": {},
   "outputs": [
    {
     "name": "stdout",
     "output_type": "stream",
     "text": [
      "0.7307756463719767\n"
     ]
    }
   ],
   "source": [
    "#Predicting Sex based on essay content in essays.\n",
    "\n",
    "from sklearn.feature_extraction.text import CountVectorizer\n",
    "from sklearn.naive_bayes import MultinomialNB\n",
    "\n",
    "nb_df = profiles[[\"essay0\",\"essay1\",\"essay2\",\"essay3\",\"essay4\",\"essay5\",\"essay6\",\"essay7\",\"essay8\",\"essay9\",'sex']]\n",
    "nb_df = nb_df.replace(np.nan, '', regex = True)\n",
    "nb_df['essays_all'] = nb_df[[\"essay0\",\"essay1\",\"essay2\",\"essay3\",\"essay4\",\"essay5\",\"essay6\",\"essay7\",\"essay8\",\"essay9\"]].apply(lambda row : ' '.join(row), axis = 1)\n",
    "\n",
    "train_data, test_data, train_labels, test_labels = train_test_split(nb_df['essays_all'], nb_df['sex'], train_size = 0.8, test_size = 0.2, random_state = 1)\n",
    "\n",
    "counter = CountVectorizer()\n",
    "counter.fit(train_data)\n",
    "train_counts = counter.transform(train_data)\n",
    "test_counts = counter.transform(test_data)\n",
    "\n",
    "classifier = MultinomialNB()\n",
    "classifier.fit(train_counts, train_labels)\n",
    "predictions = classifier.predict(test_counts)\n",
    "score_nb = classifier.score(test_counts, test_labels)\n",
    "\n",
    "print(score_nb)"
   ]
  },
  {
   "cell_type": "code",
   "execution_count": 14,
   "metadata": {},
   "outputs": [
    {
     "name": "stdout",
     "output_type": "stream",
     "text": [
      "0.7055819044144472\n"
     ]
    }
   ],
   "source": [
    "print(f1_score(test_labels, predictions, pos_label = 'f'))"
   ]
  },
  {
   "cell_type": "markdown",
   "metadata": {},
   "source": [
    "## Can we predict income based on length of essay and avg. word length?"
   ]
  },
  {
   "cell_type": "code",
   "execution_count": 15,
   "metadata": {},
   "outputs": [
    {
     "name": "stderr",
     "output_type": "stream",
     "text": [
      "C:\\Users\\ser\\anaconda3\\lib\\site-packages\\pandas\\core\\series.py:4517: SettingWithCopyWarning: \n",
      "A value is trying to be set on a copy of a slice from a DataFrame\n",
      "\n",
      "See the caveats in the documentation: https://pandas.pydata.org/pandas-docs/stable/user_guide/indexing.html#returning-a-view-versus-a-copy\n",
      "  return super().fillna(\n",
      "<ipython-input-15-60850680b0b4>:9: SettingWithCopyWarning: \n",
      "A value is trying to be set on a copy of a slice from a DataFrame.\n",
      "Try using .loc[row_indexer,col_indexer] = value instead\n",
      "\n",
      "See the caveats in the documentation: https://pandas.pydata.org/pandas-docs/stable/user_guide/indexing.html#returning-a-view-versus-a-copy\n",
      "  ml_df['essays_all'] = ml_df[[\"essay0\",\"essay1\",\"essay2\",\"essay3\",\"essay4\",\"essay5\",\"essay6\",\"essay7\",\"essay8\",\"essay9\"]].apply(lambda row : ' '.join(row), axis = 1)\n",
      "<ipython-input-15-60850680b0b4>:10: SettingWithCopyWarning: \n",
      "A value is trying to be set on a copy of a slice from a DataFrame.\n",
      "Try using .loc[row_indexer,col_indexer] = value instead\n",
      "\n",
      "See the caveats in the documentation: https://pandas.pydata.org/pandas-docs/stable/user_guide/indexing.html#returning-a-view-versus-a-copy\n",
      "  ml_df['essays_len'] = ml_df['essays_all'].apply(lambda x : len(x))\n",
      "<ipython-input-15-60850680b0b4>:11: SettingWithCopyWarning: \n",
      "A value is trying to be set on a copy of a slice from a DataFrame.\n",
      "Try using .loc[row_indexer,col_indexer] = value instead\n",
      "\n",
      "See the caveats in the documentation: https://pandas.pydata.org/pandas-docs/stable/user_guide/indexing.html#returning-a-view-versus-a-copy\n",
      "  ml_df['word_count'] = ml_df['essays_all'].str.count(' ') + 1\n",
      "<ipython-input-15-60850680b0b4>:12: SettingWithCopyWarning: \n",
      "A value is trying to be set on a copy of a slice from a DataFrame.\n",
      "Try using .loc[row_indexer,col_indexer] = value instead\n",
      "\n",
      "See the caveats in the documentation: https://pandas.pydata.org/pandas-docs/stable/user_guide/indexing.html#returning-a-view-versus-a-copy\n",
      "  ml_df['avg_word_len'] = ml_df['essays_len'] / ml_df['word_count']\n",
      "<ipython-input-15-60850680b0b4>:13: SettingWithCopyWarning: \n",
      "A value is trying to be set on a copy of a slice from a DataFrame.\n",
      "Try using .loc[row_indexer,col_indexer] = value instead\n",
      "\n",
      "See the caveats in the documentation: https://pandas.pydata.org/pandas-docs/stable/user_guide/indexing.html#returning-a-view-versus-a-copy\n",
      "  ml_df['freq_i_me'] = ml_df['essays_all'].str.count('\\s[iI]\\s|\\s[mM]e\\s')\n"
     ]
    },
    {
     "name": "stdout",
     "output_type": "stream",
     "text": [
      "<class 'pandas.core.frame.DataFrame'>\n",
      "RangeIndex: 59946 entries, 0 to 59945\n",
      "Data columns (total 17 columns):\n",
      " #   Column        Non-Null Count  Dtype  \n",
      "---  ------        --------------  -----  \n",
      " 0   essay0        59946 non-null  object \n",
      " 1   essay1        59946 non-null  object \n",
      " 2   essay2        59946 non-null  object \n",
      " 3   essay3        59946 non-null  object \n",
      " 4   essay4        59946 non-null  object \n",
      " 5   essay5        59946 non-null  object \n",
      " 6   essay6        59946 non-null  object \n",
      " 7   essay7        59946 non-null  object \n",
      " 8   essay8        59946 non-null  object \n",
      " 9   essay9        59946 non-null  object \n",
      " 10  income        59946 non-null  int64  \n",
      " 11  age           59946 non-null  int64  \n",
      " 12  essays_all    59946 non-null  object \n",
      " 13  essays_len    59946 non-null  int64  \n",
      " 14  word_count    59946 non-null  int64  \n",
      " 15  avg_word_len  59946 non-null  float64\n",
      " 16  freq_i_me     59946 non-null  int64  \n",
      "dtypes: float64(1), int64(5), object(11)\n",
      "memory usage: 7.8+ MB\n",
      "None\n",
      "0    about me:<br />\\n<br />\\ni would love to think...\n",
      "1    i am a chef: this is what that means.<br />\\n1...\n",
      "2    i'm not ashamed of much, but writing public te...\n",
      "3    i work in a library and go to school. . . read...\n",
      "4    hey how's it going? currently vague on the pro...\n",
      "Name: essays_all, dtype: object\n",
      "0    18\n",
      "1    20\n",
      "2    23\n",
      "3     1\n",
      "4     2\n",
      "Name: freq_i_me, dtype: int64\n"
     ]
    }
   ],
   "source": [
    "#Predicting Income based on average length\n",
    "\n",
    "ml_df = profiles[[\"essay0\",\"essay1\",\"essay2\",\"essay3\",\"essay4\",\"essay5\",\"essay6\",\"essay7\",\"essay8\",\"essay9\",'income', 'age']]\n",
    "\n",
    "#Filling in empty essays with ''\n",
    "ml_df.fillna(value = {'essay0' : '', 'essay1' : '','essay2' : '','essay3' : '','essay4' : '','essay5' : '','essay6' : '','essay7' : '','essay8' : '','essay9' : ''}, inplace = True)\n",
    "\n",
    "#Joining all essays together and then finding length, word count and avg word length\n",
    "ml_df['essays_all'] = ml_df[[\"essay0\",\"essay1\",\"essay2\",\"essay3\",\"essay4\",\"essay5\",\"essay6\",\"essay7\",\"essay8\",\"essay9\"]].apply(lambda row : ' '.join(row), axis = 1)\n",
    "ml_df['essays_len'] = ml_df['essays_all'].apply(lambda x : len(x))\n",
    "ml_df['word_count'] = ml_df['essays_all'].str.count(' ') + 1\n",
    "ml_df['avg_word_len'] = ml_df['essays_len'] / ml_df['word_count']\n",
    "ml_df['freq_i_me'] = ml_df['essays_all'].str.count('\\s[iI]\\s|\\s[mM]e\\s')\n",
    "\n",
    "print(ml_df.info())\n",
    "print(ml_df['essays_all'].head())\n",
    "print(ml_df['freq_i_me'].head())"
   ]
  },
  {
   "cell_type": "code",
   "execution_count": 16,
   "metadata": {},
   "outputs": [
    {
     "name": "stdout",
     "output_type": "stream",
     "text": [
      "<class 'pandas.core.frame.DataFrame'>\n",
      "RangeIndex: 11504 entries, 0 to 11503\n",
      "Data columns (total 3 columns):\n",
      " #   Column        Non-Null Count  Dtype  \n",
      "---  ------        --------------  -----  \n",
      " 0   essays_len    11504 non-null  int64  \n",
      " 1   avg_word_len  11504 non-null  float64\n",
      " 2   income        11504 non-null  int64  \n",
      "dtypes: float64(1), int64(2)\n",
      "memory usage: 269.8 KB\n",
      "None\n",
      "[[-0.51632298  0.10216655]\n",
      " [ 1.3486119  -0.03678009]\n",
      " [-0.64489499  0.0207469 ]\n",
      " ...\n",
      " [-0.24422872 -0.08073307]\n",
      " [ 1.4874355  -0.0147801 ]\n",
      " [ 3.25327168  0.13702706]]\n",
      "[[-0.57740536  0.2096162 ]\n",
      " [ 0.71344054  0.03398281]\n",
      " [ 0.06801759  0.32814938]\n",
      " ...\n",
      " [-0.04175984 -0.00891686]\n",
      " [ 0.86294288  0.30278509]\n",
      " [-0.93236663 -0.49235272]]\n"
     ]
    }
   ],
   "source": [
    "#Prepare the DF\n",
    "multi_df = ml_df[['essays_len', 'avg_word_len','income']]\n",
    "multi_df = multi_df[multi_df['income'] > 10].reset_index(drop=True)\n",
    "print(multi_df.info())\n",
    "\n",
    "#Prepare Train and Test Data\n",
    "x_train, x_test, y_train, y_test = train_test_split(multi_df[['essays_len', 'avg_word_len']], multi_df['income'], train_size = 0.8, test_size = 0.2, random_state = 1)\n",
    "\n",
    "#Normalising the data\n",
    "\n",
    "from sklearn.preprocessing import StandardScaler\n",
    "\n",
    "scaler = StandardScaler()\n",
    "x_scaled_train = scaler.fit_transform(x_train)\n",
    "x_scaled_test = scaler.transform(x_test)\n",
    "\n",
    "print(x_scaled_train)\n",
    "print(x_scaled_test)"
   ]
  },
  {
   "cell_type": "code",
   "execution_count": 17,
   "metadata": {},
   "outputs": [
    {
     "name": "stdout",
     "output_type": "stream",
     "text": [
      "0.003907412945515332\n",
      "0.0013597515420864514\n"
     ]
    }
   ],
   "source": [
    "from sklearn.linear_model import LinearRegression\n",
    "\n",
    "my_model = LinearRegression()\n",
    "my_model.fit(x_scaled_train, y_train)\n",
    "guesses = my_model.predict(x_scaled_test)\n",
    "print(my_model.score(x_scaled_train, y_train))\n",
    "print(my_model.score(x_scaled_test, y_test))\n",
    "\n",
    "#Scores are extremely low and hence length of essay and wordcount cannot be used to predict income."
   ]
  },
  {
   "cell_type": "code",
   "execution_count": 18,
   "metadata": {},
   "outputs": [
    {
     "name": "stdout",
     "output_type": "stream",
     "text": [
      "-0.17951139282140738\n"
     ]
    }
   ],
   "source": [
    "#Trying the scores using K Nearest neighbors.\n",
    "\n",
    "from sklearn.neighbors import KNeighborsRegressor\n",
    "\n",
    "my_model = KNeighborsRegressor(n_neighbors = 5, weights = 'uniform')\n",
    "my_model.fit(x_scaled_train, y_train)\n",
    "print(my_model.score(x_scaled_test, y_test))"
   ]
  },
  {
   "cell_type": "markdown",
   "metadata": {},
   "source": [
    "## Can we predict age based on Frequency of 'I' and 'Me' in the essays?"
   ]
  },
  {
   "cell_type": "code",
   "execution_count": 19,
   "metadata": {},
   "outputs": [
    {
     "name": "stdout",
     "output_type": "stream",
     "text": [
      "[[18]\n",
      " [20]\n",
      " [23]\n",
      " ...\n",
      " [11]\n",
      " [19]\n",
      " [29]]\n",
      "0.0036377087137188235\n"
     ]
    }
   ],
   "source": [
    "#Train & Test Data\n",
    "x = np.array(ml_df['freq_i_me']).reshape(-1,1)\n",
    "print(x)\n",
    "\n",
    "x_train, x_test, y_train, y_test = train_test_split(x, ml_df['age'], train_size = 0.8, test_size = 0.2, random_state = 1)\n",
    "\n",
    "#Normalising the data\n",
    "\n",
    "scaler = StandardScaler()\n",
    "x_scaled_train = scaler.fit_transform(x_train)\n",
    "x_scaled_test = scaler.transform(x_test)\n",
    "\n",
    "\n",
    "my_model = LinearRegression()\n",
    "my_model.fit(x_scaled_train, y_train)\n",
    "print(my_model.score(x_scaled_test, y_test))\n",
    "\n",
    "#Scores are extremely low and liner regression cannot be applied to predict age based on the frequency of 'I' or me in essays"
   ]
  },
  {
   "cell_type": "code",
   "execution_count": null,
   "metadata": {},
   "outputs": [],
   "source": []
  }
 ],
 "metadata": {
  "kernelspec": {
   "display_name": "Python 3",
   "language": "python",
   "name": "python3"
  },
  "language_info": {
   "codemirror_mode": {
    "name": "ipython",
    "version": 3
   },
   "file_extension": ".py",
   "mimetype": "text/x-python",
   "name": "python",
   "nbconvert_exporter": "python",
   "pygments_lexer": "ipython3",
   "version": "3.8.5"
  }
 },
 "nbformat": 4,
 "nbformat_minor": 2
}
